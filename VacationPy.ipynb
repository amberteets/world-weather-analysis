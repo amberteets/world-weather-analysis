{
 "cells": [
  {
   "cell_type": "markdown",
   "metadata": {},
   "source": [
    "# Google Maps & Places API\n",
    "## Set-up"
   ]
  },
  {
   "cell_type": "code",
   "execution_count": 1,
   "metadata": {},
   "outputs": [],
   "source": [
    "# Import dependencies\n",
    "import pandas as pd\n",
    "import gmaps\n",
    "import requests\n",
    "import numpy as np\n",
    "\n",
    "# Import the API key\n",
    "from config import g_key"
   ]
  },
  {
   "cell_type": "code",
   "execution_count": 2,
   "metadata": {},
   "outputs": [
    {
     "data": {
      "text/html": [
       "<div>\n",
       "<style scoped>\n",
       "    .dataframe tbody tr th:only-of-type {\n",
       "        vertical-align: middle;\n",
       "    }\n",
       "\n",
       "    .dataframe tbody tr th {\n",
       "        vertical-align: top;\n",
       "    }\n",
       "\n",
       "    .dataframe thead th {\n",
       "        text-align: right;\n",
       "    }\n",
       "</style>\n",
       "<table border=\"1\" class=\"dataframe\">\n",
       "  <thead>\n",
       "    <tr style=\"text-align: right;\">\n",
       "      <th></th>\n",
       "      <th>City_ID</th>\n",
       "      <th>City</th>\n",
       "      <th>Country</th>\n",
       "      <th>Date</th>\n",
       "      <th>Lat</th>\n",
       "      <th>Lng</th>\n",
       "      <th>Max Temp</th>\n",
       "      <th>Humidity</th>\n",
       "      <th>Cloudiness</th>\n",
       "      <th>Wind Speed</th>\n",
       "    </tr>\n",
       "  </thead>\n",
       "  <tbody>\n",
       "    <tr>\n",
       "      <th>0</th>\n",
       "      <td>0</td>\n",
       "      <td>New Norfolk</td>\n",
       "      <td>AU</td>\n",
       "      <td>2021-01-12 18:19:40</td>\n",
       "      <td>-42.7826</td>\n",
       "      <td>147.0587</td>\n",
       "      <td>55.00</td>\n",
       "      <td>69</td>\n",
       "      <td>39</td>\n",
       "      <td>1.81</td>\n",
       "    </tr>\n",
       "    <tr>\n",
       "      <th>1</th>\n",
       "      <td>1</td>\n",
       "      <td>Salalah</td>\n",
       "      <td>OM</td>\n",
       "      <td>2021-01-12 18:21:16</td>\n",
       "      <td>17.0151</td>\n",
       "      <td>54.0924</td>\n",
       "      <td>75.20</td>\n",
       "      <td>23</td>\n",
       "      <td>0</td>\n",
       "      <td>13.80</td>\n",
       "    </tr>\n",
       "    <tr>\n",
       "      <th>2</th>\n",
       "      <td>2</td>\n",
       "      <td>Rikitea</td>\n",
       "      <td>PF</td>\n",
       "      <td>2021-01-12 18:21:16</td>\n",
       "      <td>-23.1203</td>\n",
       "      <td>-134.9692</td>\n",
       "      <td>77.79</td>\n",
       "      <td>77</td>\n",
       "      <td>15</td>\n",
       "      <td>17.38</td>\n",
       "    </tr>\n",
       "    <tr>\n",
       "      <th>3</th>\n",
       "      <td>3</td>\n",
       "      <td>Qaanaaq</td>\n",
       "      <td>GL</td>\n",
       "      <td>2021-01-12 18:21:16</td>\n",
       "      <td>77.4840</td>\n",
       "      <td>-69.3632</td>\n",
       "      <td>10.65</td>\n",
       "      <td>83</td>\n",
       "      <td>96</td>\n",
       "      <td>8.23</td>\n",
       "    </tr>\n",
       "    <tr>\n",
       "      <th>4</th>\n",
       "      <td>4</td>\n",
       "      <td>Whitehorse</td>\n",
       "      <td>CA</td>\n",
       "      <td>2021-01-12 18:21:17</td>\n",
       "      <td>60.7161</td>\n",
       "      <td>-135.0538</td>\n",
       "      <td>19.40</td>\n",
       "      <td>93</td>\n",
       "      <td>90</td>\n",
       "      <td>3.44</td>\n",
       "    </tr>\n",
       "  </tbody>\n",
       "</table>\n",
       "</div>"
      ],
      "text/plain": [
       "   City_ID         City Country                 Date      Lat       Lng  \\\n",
       "0        0  New Norfolk      AU  2021-01-12 18:19:40 -42.7826  147.0587   \n",
       "1        1      Salalah      OM  2021-01-12 18:21:16  17.0151   54.0924   \n",
       "2        2      Rikitea      PF  2021-01-12 18:21:16 -23.1203 -134.9692   \n",
       "3        3      Qaanaaq      GL  2021-01-12 18:21:16  77.4840  -69.3632   \n",
       "4        4   Whitehorse      CA  2021-01-12 18:21:17  60.7161 -135.0538   \n",
       "\n",
       "   Max Temp  Humidity  Cloudiness  Wind Speed  \n",
       "0     55.00        69          39        1.81  \n",
       "1     75.20        23           0       13.80  \n",
       "2     77.79        77          15       17.38  \n",
       "3     10.65        83          96        8.23  \n",
       "4     19.40        93          90        3.44  "
      ]
     },
     "execution_count": 2,
     "metadata": {},
     "output_type": "execute_result"
    }
   ],
   "source": [
    "# Load weather data CSV\n",
    "city_df = pd.read_csv(\"weather_data/cities.csv\")\n",
    "city_df.head()"
   ]
  },
  {
   "cell_type": "markdown",
   "metadata": {},
   "source": [
    "Data used for mapping must be integer or floating-point decimals, so we need to confirm that the weather data to be mapped is in the appropriate format."
   ]
  },
  {
   "cell_type": "code",
   "execution_count": 3,
   "metadata": {},
   "outputs": [
    {
     "data": {
      "text/plain": [
       "City_ID         int64\n",
       "City           object\n",
       "Country        object\n",
       "Date           object\n",
       "Lat           float64\n",
       "Lng           float64\n",
       "Max Temp      float64\n",
       "Humidity        int64\n",
       "Cloudiness      int64\n",
       "Wind Speed    float64\n",
       "dtype: object"
      ]
     },
     "execution_count": 3,
     "metadata": {},
     "output_type": "execute_result"
    }
   ],
   "source": [
    "# Check datatypes of DataFrame\n",
    "city_df.dtypes"
   ]
  },
  {
   "cell_type": "code",
   "execution_count": 4,
   "metadata": {},
   "outputs": [],
   "source": [
    "# Configure gmaps to use your Google API key.\n",
    "gmaps.configure(api_key=g_key)"
   ]
  },
  {
   "cell_type": "markdown",
   "metadata": {},
   "source": [
    "Google heatmaps do not plot negative numbers, so we will get an `InvalidWeightException` error if any maximum temperatures are negative. Instead, use a for loop to create a new list of temperatures that takes the maximum of either 0 or the temperature."
   ]
  },
  {
   "cell_type": "code",
   "execution_count": 5,
   "metadata": {},
   "outputs": [],
   "source": [
    "# pos_temps = []\n",
    "# for temp in city_df[\"Max Temp\"]:\n",
    "#    pos_temps.append(max(temp, 0))"
   ]
  },
  {
   "cell_type": "code",
   "execution_count": 6,
   "metadata": {},
   "outputs": [
    {
     "data": {
      "application/vnd.jupyter.widget-view+json": {
       "model_id": "7e2dc26ad52f449da2709ada0ad115a5",
       "version_major": 2,
       "version_minor": 0
      },
      "text/plain": [
       "Figure(layout=FigureLayout(height='420px'))"
      ]
     },
     "metadata": {},
     "output_type": "display_data"
    }
   ],
   "source": [
    "# Heatmap of temperature\n",
    "# Get the latitude and longitude.\n",
    "locations = city_df[[\"Lat\", \"Lng\"]]\n",
    "# Get the maximum temperature.\n",
    "max_temp = city_df[\"Max Temp\"]\n",
    "# Assign the figure variable. Add geographic center of Earth and adjust zoom.\n",
    "fig = gmaps.figure(center=(30.0, 31.0), zoom_level=1.45)\n",
    "# Assign the heatmap variable.\n",
    "## (Using list comprehension to change negative temperatures to 0)\n",
    "heat_layer = gmaps.heatmap_layer(locations, weights=[max(temp, 0) for temp in city_df[\"Max Temp\"]],\n",
    "                                dissipating=False,\n",
    "                                max_intensity=400,\n",
    "                                point_radius=6)\n",
    "# Add the heatmap layer.\n",
    "fig.add_layer(heat_layer)\n",
    "# Call the figure to plot the data.\n",
    "fig"
   ]
  },
  {
   "cell_type": "code",
   "execution_count": 7,
   "metadata": {},
   "outputs": [
    {
     "data": {
      "application/vnd.jupyter.widget-view+json": {
       "model_id": "80ecac2e1bf24017929e3245dd8cecba",
       "version_major": 2,
       "version_minor": 0
      },
      "text/plain": [
       "Figure(layout=FigureLayout(height='420px'))"
      ]
     },
     "metadata": {},
     "output_type": "display_data"
    }
   ],
   "source": [
    "# Heatmap of percent humidity\n",
    "locations = city_df[[\"Lat\", \"Lng\"]]\n",
    "humidity = city_df[\"Humidity\"]\n",
    "fig = gmaps.figure(center=(30.0, 31.0), zoom_level=1.45)\n",
    "heat_layer = gmaps.heatmap_layer(locations, weights=humidity, dissipating=False, max_intensity=300, point_radius=4)\n",
    "\n",
    "fig.add_layer(heat_layer)\n",
    "# Call the figure to plot the data.\n",
    "fig"
   ]
  },
  {
   "cell_type": "code",
   "execution_count": 8,
   "metadata": {},
   "outputs": [
    {
     "data": {
      "application/vnd.jupyter.widget-view+json": {
       "model_id": "981d11cc527b4048beee84dfe3cb5914",
       "version_major": 2,
       "version_minor": 0
      },
      "text/plain": [
       "Figure(layout=FigureLayout(height='420px'))"
      ]
     },
     "metadata": {},
     "output_type": "display_data"
    }
   ],
   "source": [
    "# Heatmap of cloudiness\n",
    "locations = city_df[[\"Lat\", \"Lng\"]]\n",
    "clouds = city_df[\"Cloudiness\"]\n",
    "fig = gmaps.figure(center=(30.0, 31.0), zoom_level=1.45)\n",
    "heat_layer = gmaps.heatmap_layer(locations, weights=clouds, dissipating=False, max_intensity=300, point_radius=4)\n",
    "\n",
    "fig.add_layer(heat_layer)\n",
    "# Call the figure to plot the data.\n",
    "fig"
   ]
  },
  {
   "cell_type": "code",
   "execution_count": 9,
   "metadata": {},
   "outputs": [
    {
     "data": {
      "application/vnd.jupyter.widget-view+json": {
       "model_id": "59185e84668644b3b8f09b2bb8fcdeff",
       "version_major": 2,
       "version_minor": 0
      },
      "text/plain": [
       "Figure(layout=FigureLayout(height='420px'))"
      ]
     },
     "metadata": {},
     "output_type": "display_data"
    }
   ],
   "source": [
    "# Heatmap of wind speed\n",
    "locations = city_df[[\"Lat\", \"Lng\"]]\n",
    "wind = city_df[\"Wind Speed\"]\n",
    "fig = gmaps.figure(center=(30.0, 31.0), zoom_level=1.45)\n",
    "heat_layer = gmaps.heatmap_layer(locations, weights=wind, dissipating=False, max_intensity=500, point_radius=8)\n",
    "\n",
    "fig.add_layer(heat_layer)\n",
    "# Call the figure to plot the data.\n",
    "fig"
   ]
  },
  {
   "cell_type": "markdown",
   "metadata": {},
   "source": [
    "## Get Vacation Criteria"
   ]
  },
  {
   "cell_type": "code",
   "execution_count": 10,
   "metadata": {},
   "outputs": [
    {
     "name": "stdout",
     "output_type": "stream",
     "text": [
      "What is the minimum temperature you would like for your trip? 75\n",
      "What is the maximum temperature you would like for your trip? 90\n"
     ]
    }
   ],
   "source": [
    "# Ask the customer to add a minimum and maximum temperature value.\n",
    "min_temp = float(input(\"What is the minimum temperature you would like for your trip? \"))\n",
    "max_temp = float(input(\"What is the maximum temperature you would like for your trip? \"))"
   ]
  },
  {
   "cell_type": "code",
   "execution_count": 11,
   "metadata": {},
   "outputs": [
    {
     "data": {
      "text/html": [
       "<div>\n",
       "<style scoped>\n",
       "    .dataframe tbody tr th:only-of-type {\n",
       "        vertical-align: middle;\n",
       "    }\n",
       "\n",
       "    .dataframe tbody tr th {\n",
       "        vertical-align: top;\n",
       "    }\n",
       "\n",
       "    .dataframe thead th {\n",
       "        text-align: right;\n",
       "    }\n",
       "</style>\n",
       "<table border=\"1\" class=\"dataframe\">\n",
       "  <thead>\n",
       "    <tr style=\"text-align: right;\">\n",
       "      <th></th>\n",
       "      <th>City_ID</th>\n",
       "      <th>City</th>\n",
       "      <th>Country</th>\n",
       "      <th>Date</th>\n",
       "      <th>Lat</th>\n",
       "      <th>Lng</th>\n",
       "      <th>Max Temp</th>\n",
       "      <th>Humidity</th>\n",
       "      <th>Cloudiness</th>\n",
       "      <th>Wind Speed</th>\n",
       "    </tr>\n",
       "  </thead>\n",
       "  <tbody>\n",
       "    <tr>\n",
       "      <th>1</th>\n",
       "      <td>1</td>\n",
       "      <td>Salalah</td>\n",
       "      <td>OM</td>\n",
       "      <td>2021-01-12 18:21:16</td>\n",
       "      <td>17.0151</td>\n",
       "      <td>54.0924</td>\n",
       "      <td>75.20</td>\n",
       "      <td>23</td>\n",
       "      <td>0</td>\n",
       "      <td>13.80</td>\n",
       "    </tr>\n",
       "    <tr>\n",
       "      <th>2</th>\n",
       "      <td>2</td>\n",
       "      <td>Rikitea</td>\n",
       "      <td>PF</td>\n",
       "      <td>2021-01-12 18:21:16</td>\n",
       "      <td>-23.1203</td>\n",
       "      <td>-134.9692</td>\n",
       "      <td>77.79</td>\n",
       "      <td>77</td>\n",
       "      <td>15</td>\n",
       "      <td>17.38</td>\n",
       "    </tr>\n",
       "    <tr>\n",
       "      <th>14</th>\n",
       "      <td>14</td>\n",
       "      <td>Atuona</td>\n",
       "      <td>PF</td>\n",
       "      <td>2021-01-12 18:21:19</td>\n",
       "      <td>-9.8000</td>\n",
       "      <td>-139.0333</td>\n",
       "      <td>77.58</td>\n",
       "      <td>79</td>\n",
       "      <td>46</td>\n",
       "      <td>16.87</td>\n",
       "    </tr>\n",
       "    <tr>\n",
       "      <th>17</th>\n",
       "      <td>17</td>\n",
       "      <td>Nikki</td>\n",
       "      <td>BJ</td>\n",
       "      <td>2021-01-12 18:21:20</td>\n",
       "      <td>9.9401</td>\n",
       "      <td>3.2108</td>\n",
       "      <td>83.05</td>\n",
       "      <td>15</td>\n",
       "      <td>0</td>\n",
       "      <td>3.42</td>\n",
       "    </tr>\n",
       "    <tr>\n",
       "      <th>26</th>\n",
       "      <td>26</td>\n",
       "      <td>Cape Town</td>\n",
       "      <td>ZA</td>\n",
       "      <td>2021-01-12 18:18:33</td>\n",
       "      <td>-33.9258</td>\n",
       "      <td>18.4232</td>\n",
       "      <td>75.20</td>\n",
       "      <td>69</td>\n",
       "      <td>0</td>\n",
       "      <td>16.11</td>\n",
       "    </tr>\n",
       "  </tbody>\n",
       "</table>\n",
       "</div>"
      ],
      "text/plain": [
       "    City_ID       City Country                 Date      Lat       Lng  \\\n",
       "1         1    Salalah      OM  2021-01-12 18:21:16  17.0151   54.0924   \n",
       "2         2    Rikitea      PF  2021-01-12 18:21:16 -23.1203 -134.9692   \n",
       "14       14     Atuona      PF  2021-01-12 18:21:19  -9.8000 -139.0333   \n",
       "17       17      Nikki      BJ  2021-01-12 18:21:20   9.9401    3.2108   \n",
       "26       26  Cape Town      ZA  2021-01-12 18:18:33 -33.9258   18.4232   \n",
       "\n",
       "    Max Temp  Humidity  Cloudiness  Wind Speed  \n",
       "1      75.20        23           0       13.80  \n",
       "2      77.79        77          15       17.38  \n",
       "14     77.58        79          46       16.87  \n",
       "17     83.05        15           0        3.42  \n",
       "26     75.20        69           0       16.11  "
      ]
     },
     "execution_count": 11,
     "metadata": {},
     "output_type": "execute_result"
    }
   ],
   "source": [
    "# Filter the dataset to find cities that meet the inputted temperature criteria\n",
    "# Drop rows with NaN values using .dropna()\n",
    "preferred_temp_df = city_df.loc[(city_df[\"Max Temp\"] >= min_temp) & \\\n",
    "                                (city_df[\"Max Temp\"] <= max_temp)].dropna()\n",
    "preferred_temp_df.head()"
   ]
  },
  {
   "cell_type": "code",
   "execution_count": 12,
   "metadata": {},
   "outputs": [
    {
     "data": {
      "text/plain": [
       "City_ID       150\n",
       "City          150\n",
       "Country       150\n",
       "Date          150\n",
       "Lat           150\n",
       "Lng           150\n",
       "Max Temp      150\n",
       "Humidity      150\n",
       "Cloudiness    150\n",
       "Wind Speed    150\n",
       "dtype: int64"
      ]
     },
     "execution_count": 12,
     "metadata": {},
     "output_type": "execute_result"
    }
   ],
   "source": [
    "# Check if the filtered dataset has null rows.\n",
    "preferred_temp_df.count()"
   ]
  },
  {
   "cell_type": "markdown",
   "metadata": {},
   "source": [
    "## Mapping the Criteria\n",
    "\n",
    "Create heatmaps showing maximum temperature for the filtered cities, including markers indicating the city, country, and the name of a hotel within 3 miles of the coordinates."
   ]
  },
  {
   "cell_type": "code",
   "execution_count": 13,
   "metadata": {
    "scrolled": true
   },
   "outputs": [
    {
     "data": {
      "text/html": [
       "<div>\n",
       "<style scoped>\n",
       "    .dataframe tbody tr th:only-of-type {\n",
       "        vertical-align: middle;\n",
       "    }\n",
       "\n",
       "    .dataframe tbody tr th {\n",
       "        vertical-align: top;\n",
       "    }\n",
       "\n",
       "    .dataframe thead th {\n",
       "        text-align: right;\n",
       "    }\n",
       "</style>\n",
       "<table border=\"1\" class=\"dataframe\">\n",
       "  <thead>\n",
       "    <tr style=\"text-align: right;\">\n",
       "      <th></th>\n",
       "      <th>City</th>\n",
       "      <th>Country</th>\n",
       "      <th>Max Temp</th>\n",
       "      <th>Lat</th>\n",
       "      <th>Lng</th>\n",
       "      <th>Hotel Name</th>\n",
       "    </tr>\n",
       "  </thead>\n",
       "  <tbody>\n",
       "    <tr>\n",
       "      <th>1</th>\n",
       "      <td>Salalah</td>\n",
       "      <td>OM</td>\n",
       "      <td>75.20</td>\n",
       "      <td>17.0151</td>\n",
       "      <td>54.0924</td>\n",
       "      <td></td>\n",
       "    </tr>\n",
       "    <tr>\n",
       "      <th>2</th>\n",
       "      <td>Rikitea</td>\n",
       "      <td>PF</td>\n",
       "      <td>77.79</td>\n",
       "      <td>-23.1203</td>\n",
       "      <td>-134.9692</td>\n",
       "      <td></td>\n",
       "    </tr>\n",
       "    <tr>\n",
       "      <th>14</th>\n",
       "      <td>Atuona</td>\n",
       "      <td>PF</td>\n",
       "      <td>77.58</td>\n",
       "      <td>-9.8000</td>\n",
       "      <td>-139.0333</td>\n",
       "      <td></td>\n",
       "    </tr>\n",
       "    <tr>\n",
       "      <th>17</th>\n",
       "      <td>Nikki</td>\n",
       "      <td>BJ</td>\n",
       "      <td>83.05</td>\n",
       "      <td>9.9401</td>\n",
       "      <td>3.2108</td>\n",
       "      <td></td>\n",
       "    </tr>\n",
       "    <tr>\n",
       "      <th>26</th>\n",
       "      <td>Cape Town</td>\n",
       "      <td>ZA</td>\n",
       "      <td>75.20</td>\n",
       "      <td>-33.9258</td>\n",
       "      <td>18.4232</td>\n",
       "      <td></td>\n",
       "    </tr>\n",
       "  </tbody>\n",
       "</table>\n",
       "</div>"
      ],
      "text/plain": [
       "         City Country  Max Temp      Lat       Lng Hotel Name\n",
       "1     Salalah      OM     75.20  17.0151   54.0924           \n",
       "2     Rikitea      PF     77.79 -23.1203 -134.9692           \n",
       "14     Atuona      PF     77.58  -9.8000 -139.0333           \n",
       "17      Nikki      BJ     83.05   9.9401    3.2108           \n",
       "26  Cape Town      ZA     75.20 -33.9258   18.4232           "
      ]
     },
     "execution_count": 13,
     "metadata": {},
     "output_type": "execute_result"
    }
   ],
   "source": [
    "# Create a copy of the preferred cities df with new Hotel Name column\n",
    "hotel_df = preferred_temp_df[[\"City\", \"Country\", \"Max Temp\", \"Lat\", \"Lng\"]].copy()\n",
    "hotel_df[\"Hotel Name\"] = \"\"\n",
    "hotel_df.head()"
   ]
  },
  {
   "cell_type": "code",
   "execution_count": 14,
   "metadata": {},
   "outputs": [
    {
     "data": {
      "text/plain": [
       "150"
      ]
     },
     "execution_count": 14,
     "metadata": {},
     "output_type": "execute_result"
    }
   ],
   "source": [
    "len(hotel_df)"
   ]
  },
  {
   "cell_type": "markdown",
   "metadata": {},
   "source": [
    "Using the latitude and longitude and specific parameters, use the Google Places Nearby Search request to retrieve a hotel and add it to the Hotel Name column."
   ]
  },
  {
   "cell_type": "markdown",
   "metadata": {},
   "source": [
    "### Setting Parameters"
   ]
  },
  {
   "cell_type": "code",
   "execution_count": null,
   "metadata": {},
   "outputs": [],
   "source": [
    "# Pass parameters as a dictionary to add to the base url\n",
    "params = {\n",
    "    'key': g_key,\n",
    "    'radius': 5000,\n",
    "    'keyword': 'lodging'\n",
    "}"
   ]
  },
  {
   "cell_type": "markdown",
   "metadata": {},
   "source": [
    "### Iterate through hotels DataFrame"
   ]
  },
  {
   "cell_type": "code",
   "execution_count": null,
   "metadata": {},
   "outputs": [
    {
     "name": "stdout",
     "output_type": "stream",
     "text": [
      "Hotel not found... Skipping\n",
      "Hotel not found... Skipping\n",
      "Hotel not found... Skipping\n",
      "Hotel not found... Skipping\n",
      "Hotel not found... Skipping\n",
      "Hotel not found... Skipping\n",
      "Hotel not found... Skipping\n",
      "Hotel not found... Skipping\n",
      "Hotel not found... Skipping\n",
      "Hotel not found... Skipping\n",
      "Hotel not found... Skipping\n",
      "Hotel not found... Skipping\n",
      "Hotel not found... Skipping\n",
      "Hotel not found... Skipping\n",
      "Hotel not found... Skipping\n",
      "Hotel not found... Skipping\n"
     ]
    }
   ],
   "source": [
    "# Iterate through the DataFrame.\n",
    "for index, row in hotel_df.iterrows():\n",
    "    # Get the latitude and longitude.\n",
    "    lat = row[\"Lat\"]\n",
    "    lng = row[\"Lng\"]\n",
    "\n",
    "    # Add the latitude and longitude to location key for the params dictionary.\n",
    "    params[\"location\"] = f\"{lat},{lng}\"\n",
    "\n",
    "    # Use the search term: \"lodging\" and our latitude and longitude.\n",
    "    base_url = \"https://maps.googleapis.com/maps/api/place/nearbysearch/json\"\n",
    "    \n",
    "    # Make request and get the JSON data from the search.\n",
    "    hotels = requests.get(base_url, params=params).json()\n",
    "\n",
    "    # Grab the first hotel from the results and store the name.\n",
    "    try:\n",
    "        hotel_df.loc[index, \"Hotel Name\"] = hotels[\"results\"][0][\"name\"]\n",
    "    except (IndexError):\n",
    "        print(f\"Hotel not found... Skipping\")"
   ]
  },
  {
   "cell_type": "code",
   "execution_count": 23,
   "metadata": {},
   "outputs": [
    {
     "data": {
      "text/html": [
       "<div>\n",
       "<style scoped>\n",
       "    .dataframe tbody tr th:only-of-type {\n",
       "        vertical-align: middle;\n",
       "    }\n",
       "\n",
       "    .dataframe tbody tr th {\n",
       "        vertical-align: top;\n",
       "    }\n",
       "\n",
       "    .dataframe thead th {\n",
       "        text-align: right;\n",
       "    }\n",
       "</style>\n",
       "<table border=\"1\" class=\"dataframe\">\n",
       "  <thead>\n",
       "    <tr style=\"text-align: right;\">\n",
       "      <th></th>\n",
       "      <th>City</th>\n",
       "      <th>Country</th>\n",
       "      <th>Max Temp</th>\n",
       "      <th>Lat</th>\n",
       "      <th>Lng</th>\n",
       "      <th>Hotel Name</th>\n",
       "    </tr>\n",
       "  </thead>\n",
       "  <tbody>\n",
       "    <tr>\n",
       "      <th>1</th>\n",
       "      <td>Salalah</td>\n",
       "      <td>OM</td>\n",
       "      <td>75.20</td>\n",
       "      <td>17.0151</td>\n",
       "      <td>54.0924</td>\n",
       "      <td>Argaan Salalah Furnished Apartment</td>\n",
       "    </tr>\n",
       "    <tr>\n",
       "      <th>2</th>\n",
       "      <td>Rikitea</td>\n",
       "      <td>PF</td>\n",
       "      <td>77.79</td>\n",
       "      <td>-23.1203</td>\n",
       "      <td>-134.9692</td>\n",
       "      <td>Pension Maro'i</td>\n",
       "    </tr>\n",
       "    <tr>\n",
       "      <th>14</th>\n",
       "      <td>Atuona</td>\n",
       "      <td>PF</td>\n",
       "      <td>77.58</td>\n",
       "      <td>-9.8000</td>\n",
       "      <td>-139.0333</td>\n",
       "      <td>CHALETS HANAKEE</td>\n",
       "    </tr>\n",
       "    <tr>\n",
       "      <th>17</th>\n",
       "      <td>Nikki</td>\n",
       "      <td>BJ</td>\n",
       "      <td>83.05</td>\n",
       "      <td>9.9401</td>\n",
       "      <td>3.2108</td>\n",
       "      <td>Hotel John</td>\n",
       "    </tr>\n",
       "    <tr>\n",
       "      <th>26</th>\n",
       "      <td>Cape Town</td>\n",
       "      <td>ZA</td>\n",
       "      <td>75.20</td>\n",
       "      <td>-33.9258</td>\n",
       "      <td>18.4232</td>\n",
       "      <td>Labotessa Boutique Hotel</td>\n",
       "    </tr>\n",
       "    <tr>\n",
       "      <th>...</th>\n",
       "      <td>...</td>\n",
       "      <td>...</td>\n",
       "      <td>...</td>\n",
       "      <td>...</td>\n",
       "      <td>...</td>\n",
       "      <td>...</td>\n",
       "    </tr>\n",
       "    <tr>\n",
       "      <th>347</th>\n",
       "      <td>Bocana De Paiwas</td>\n",
       "      <td>NI</td>\n",
       "      <td>80.20</td>\n",
       "      <td>12.7857</td>\n",
       "      <td>-85.1227</td>\n",
       "      <td></td>\n",
       "    </tr>\n",
       "    <tr>\n",
       "      <th>349</th>\n",
       "      <td>Mahebourg</td>\n",
       "      <td>MU</td>\n",
       "      <td>77.00</td>\n",
       "      <td>-20.4081</td>\n",
       "      <td>57.7000</td>\n",
       "      <td>Les Lodges D'Union</td>\n",
       "    </tr>\n",
       "    <tr>\n",
       "      <th>355</th>\n",
       "      <td>Saint-Pierre</td>\n",
       "      <td>RE</td>\n",
       "      <td>78.80</td>\n",
       "      <td>-21.3393</td>\n",
       "      <td>55.4781</td>\n",
       "      <td>Villa Morgane</td>\n",
       "    </tr>\n",
       "    <tr>\n",
       "      <th>359</th>\n",
       "      <td>Sinazongwe</td>\n",
       "      <td>ZM</td>\n",
       "      <td>79.54</td>\n",
       "      <td>-17.2614</td>\n",
       "      <td>27.4618</td>\n",
       "      <td>Lakeview Lodge</td>\n",
       "    </tr>\n",
       "    <tr>\n",
       "      <th>361</th>\n",
       "      <td>Carnot</td>\n",
       "      <td>CF</td>\n",
       "      <td>80.11</td>\n",
       "      <td>4.9409</td>\n",
       "      <td>15.8665</td>\n",
       "      <td></td>\n",
       "    </tr>\n",
       "  </tbody>\n",
       "</table>\n",
       "<p>100 rows × 6 columns</p>\n",
       "</div>"
      ],
      "text/plain": [
       "                 City Country  Max Temp      Lat       Lng  \\\n",
       "1             Salalah      OM     75.20  17.0151   54.0924   \n",
       "2             Rikitea      PF     77.79 -23.1203 -134.9692   \n",
       "14             Atuona      PF     77.58  -9.8000 -139.0333   \n",
       "17              Nikki      BJ     83.05   9.9401    3.2108   \n",
       "26          Cape Town      ZA     75.20 -33.9258   18.4232   \n",
       "..                ...     ...       ...      ...       ...   \n",
       "347  Bocana De Paiwas      NI     80.20  12.7857  -85.1227   \n",
       "349         Mahebourg      MU     77.00 -20.4081   57.7000   \n",
       "355      Saint-Pierre      RE     78.80 -21.3393   55.4781   \n",
       "359        Sinazongwe      ZM     79.54 -17.2614   27.4618   \n",
       "361            Carnot      CF     80.11   4.9409   15.8665   \n",
       "\n",
       "                             Hotel Name  \n",
       "1    Argaan Salalah Furnished Apartment  \n",
       "2                        Pension Maro'i  \n",
       "14                      CHALETS HANAKEE  \n",
       "17                           Hotel John  \n",
       "26             Labotessa Boutique Hotel  \n",
       "..                                  ...  \n",
       "347                                      \n",
       "349                  Les Lodges D'Union  \n",
       "355                       Villa Morgane  \n",
       "359                      Lakeview Lodge  \n",
       "361                                      \n",
       "\n",
       "[100 rows x 6 columns]"
      ]
     },
     "execution_count": 23,
     "metadata": {},
     "output_type": "execute_result"
    }
   ],
   "source": [
    "hotel_df.head(100)"
   ]
  },
  {
   "cell_type": "code",
   "execution_count": null,
   "metadata": {},
   "outputs": [],
   "source": []
  }
 ],
 "metadata": {
  "kernelspec": {
   "display_name": "Python 3",
   "language": "python",
   "name": "python3"
  },
  "language_info": {
   "codemirror_mode": {
    "name": "ipython",
    "version": 3
   },
   "file_extension": ".py",
   "mimetype": "text/x-python",
   "name": "python",
   "nbconvert_exporter": "python",
   "pygments_lexer": "ipython3",
   "version": "3.7.9"
  }
 },
 "nbformat": 4,
 "nbformat_minor": 4
}
